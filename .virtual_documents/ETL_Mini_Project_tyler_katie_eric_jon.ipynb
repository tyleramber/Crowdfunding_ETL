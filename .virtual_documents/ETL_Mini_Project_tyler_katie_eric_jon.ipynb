# Import dependencies
import pandas as pd
import numpy as np
pd.set_option('max_colwidth', 400)





# Read the data into a Pandas DataFrame
crowdfunding_info_df = pd.read_excel('Resources/crowdfunding.xlsx')
crowdfunding_info_df.head()


# Get a brief summary of the crowdfunding_info DataFrame.
crowdfunding_info_df.info()





# Get the crowdfunding_info_df columns.
print(crowdfunding_info_df.columns)


# Assign the category and subcategory values to category and subcategory columns.
# Create dictionaries for mapping
crowdfunding_info_df[['category', 'subcategory']] = crowdfunding_info_df['category & sub-category'].str.split('/', expand=True)


# Get the unique categories and subcategories in separate lists.
categories = crowdfunding_info_df['category'].unique().tolist()
subcategories = crowdfunding_info_df['subcategory'].unique().tolist()

print(categories)
print(subcategories)


# Get the number of distinct values in the categories and subcategories lists.
print(len(categories))
print(len(subcategories))


# Create numpy arrays from 1-9 for the categories and 1-24 for the subcategories.
category_ids = np.arange(1, 10)
subcategory_ids = np.arange(1, 25)

print(category_ids)
print(subcategory_ids)


# Use a list comprehension to add "cat" to each category_id. 
cat_ids = [f'cat{i}' for i in category_ids]
# Use a list comprehension to add "subcat" to each subcategory_id.    
scat_ids = [f'subcat{i}' for i in subcategory_ids]
    
print(cat_ids)
print(scat_ids)


# Create a category DataFrame with the category_id array as the category_id and categories list as the category name.
category_df = pd.DataFrame({
    'category_id': cat_ids,
    'category': categories
})
# Create a category DataFrame with the subcategory_id array as the subcategory_id and subcategories list as the subcategory name. 
subcategory_df = pd.DataFrame({
    'subcategory_id': scat_ids,
    'subcategory': subcategories
})


category_df


subcategory_df


# Export categories_df and subcategories_df as CSV files.
category_df.to_csv("Resources/category.csv", index=False)

subcategory_df.to_csv("Resources/subcategory.csv", index=False)





# Create a copy of the crowdfunding_info_df DataFrame name campaign_df. 
campaign_df = crowdfunding_info_df.copy()
campaign_df.head()


# Convert the goal and pledged columns to a `float` data type.
campaign_df['goal'] = campaign_df['goal'].astype(float)
campaign_df['pledged'] = campaign_df['pledged'].astype(float)


# Rename the blurb, launched_at, and deadline columns.
campaign_df_cleaned = campaign_df.rename(columns={
    'blurb': 'description',
    'launched_at': 'launch_date',
    'deadline': 'end_date'
})



# Check the datatypes
campaign_df_cleaned.info()


# Format the launched_date and end_date columns to datetime format
from datetime import datetime as dt
campaign_df_cleaned['launch_date'] = pd.to_datetime(campaign_df_cleaned['launch_date']).dt.strftime('%Y-%m-%d')
campaign_df_cleaned['end_date'] = pd.to_datetime(campaign_df_cleaned['end_date']).dt.strftime('%Y-%m-%d')



# Merge the campaign_df with the category_df on the "category" column and 
campaign_merged_df = pd.merge(campaign_df_cleaned, category_df, on='category')
# the subcategory_df on the "subcategory" column.
campaign_merged_df = pd.merge(campaign_merged_df, subcategory_df, on='subcategory')

campaign_merged_df.tail(10)


# Drop unwanted columns, staff_pick, 	spotlight,category, subcategory, category & subcategory,
campaign_cleaned = campaign_merged_df.drop(['staff_pick', 'spotlight', 'category', 'subcategory', 'category & sub-category'], axis = 1)
campaign_cleaned.head()


# Export the DataFrame as a CSV file. 
campaign_cleaned.to_csv("Resources/campaign.csv", index=False)





# Read the data into a Pandas DataFrame. Use the `header=2` parameter when reading in the data.
contact_info_df = pd.read_excel('Resources/contacts.xlsx', header=3)
contact_info_df.head()








# Iterate through the contact_info_df and convert each row to a dictionary.
import json
dict_info = []
for i, row in contact_info_df.iterrows():
    data = row['contact_info']
    converted_data = json.loads(data)
    row_values = [v for k, v in converted_data.items()]
    dict_info.append(row_values)

print(dict_info)


# Create a contact_info DataFrame and add each list of values, i.e., each row 
# to the 'contact_id', 'name', 'email' columns.
contact_info = pd.DataFrame(dict_info, columns=['contact_id', 'name', 'email'])
contact_info.head()


# Check the datatypes.
contact_info.info()


# Create a "first"name" and "last_name" column with the first and last names from the "name" column. 
contact_info[['first_name', 'last_name']]=contact_info['name'].str.split(' ',n=1, expand=True)

# Drop the contact_name column
contact_info.drop(columns=['name'], inplace=True)
contact_info.head()



# Reorder the columns
ordered_contacts = contact_info[['contact_id', 'first_name', 'last_name', 'email']]
ordered_contacts.head()


# Check the datatypes one more time before exporting as CSV file.
ordered_contacts.info()


# Export the DataFrame as a CSV file. 

ordered_contacts.to_csv("Resources/contacts.csv", encoding='utf8', index=False)








# Extract the four-digit contact_id number.



# Check the datatypes.



# Convert the "contact_id" column to an int64 data type.



# Extract the name of the contact and add it to a new column.



# Extract the email from the contacts and add the values to a new column.



# Create a copy of the contact_info_df with the 'contact_id', 'name', 'email' columns.



# Create a "first"name" and "last_name" column with the first and last names from the "name" column. 


# Drop the contact_name column



# Reorder the columns



# Check the datatypes one more time before exporting as CSV file.



# Export the DataFrame as a CSV file. 
# contacts_df_clean.to_csv("Resources/contacts.csv", encoding='utf8', index=False)



